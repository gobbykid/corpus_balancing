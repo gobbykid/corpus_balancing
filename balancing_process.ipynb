{
 "cells": [
  {
   "cell_type": "code",
   "execution_count": 27,
   "metadata": {},
   "outputs": [],
   "source": [
    "import glob\n",
    "from pathlib import Path\n",
    "from tqdm import tqdm"
   ]
  },
  {
   "cell_type": "code",
   "execution_count": 28,
   "metadata": {},
   "outputs": [],
   "source": [
    "\n",
    "male_directory = \"C:/Users/media/Desktop/gobbykid/corpus/gobbykidCorpus/male-writers\"\n",
    "female_directory = \"C:/Users/media/Desktop/gobbykid/corpus/gobbykidCorpus/female-writers\"\n",
    "\n",
    "male_files = glob.glob(f\"{male_directory}/*.txt\")\n",
    "female_files = glob.glob(f\"{female_directory}/*.txt\")"
   ]
  },
  {
   "cell_type": "code",
   "execution_count": 29,
   "metadata": {},
   "outputs": [],
   "source": [
    "male_n_of_words = dict()\n",
    "for file in male_files:\n",
    "    text = open(file, 'rb').read()\n",
    "    n_of_words = len(text.split())\n",
    "    male_n_of_words[Path(file).stem] = n_of_words\n",
    "\n",
    "female_n_of_words = dict()\n",
    "for file in female_files:\n",
    "    text = open(file, 'rb').read()\n",
    "    n_of_words = len(text.split())\n",
    "    female_n_of_words[Path(file).stem] = n_of_words\n",
    "\n",
    "#print(\"🎇Number of words in books written by male authors, per each book: \",male_n_of_words)\n",
    "#print(\"🎇Number of words in books written by female authors, per each book: \",female_n_of_words)"
   ]
  },
  {
   "cell_type": "code",
   "execution_count": 30,
   "metadata": {},
   "outputs": [
    {
     "name": "stdout",
     "output_type": "stream",
     "text": [
      "Total number of words in the male authors' corpus: 14074486\n",
      "Total number of words in the female authors' corpus: 9458669\n"
     ]
    }
   ],
   "source": [
    "male_total_words = sum(male_n_of_words.values())\n",
    "female_total_words = sum(female_n_of_words.values())\n",
    "print(\"Total number of words in the male authors' corpus:\",male_total_words)\n",
    "print(\"Total number of words in the female authors' corpus:\", female_total_words)"
   ]
  },
  {
   "cell_type": "markdown",
   "metadata": {},
   "source": [
    "Criteri da tenere in considerazione per il bilanciamento:\n",
    "1. numero di tokens maschili/femminili\n",
    "2. Fase temporale (decennio?)\n",
    "3. autore per decennio\n",
    "\n",
    "L'output che vogliamo sono **due liste di documenti**, una per autori e una per autrici, che contengano il *massimo* numero di documenti per ogni decennio, con il *minimo* numero di libri dello stesso autore, con la *minima* differenza di numero di token tra maschi e femmine per ogni singolo decennio. La gerarchia di priorità è la seguente:\n",
    "\n",
    "1. minima differenza assoluta di tokens maschi/femmine per decennio\n",
    "2. massimo numero di libri per decennio\n",
    "3. minimo numero di libri dello stesso autore per decennio\n",
    "\n",
    "~~Considera la possibilità di usare il built-in `filter()` ed eventualmente importare e usare `random` (per scegliere documenti a caso una volta applicati i filtri condizionali).~~ \n",
    "~~Prima definisci le funzioni per verificare le condizioni dei filtri (ad esempio:  `return true if abs(male_document_tokens_number - female_document_tokens_number) < 10000`) e poi applica i filtri al dataset.~~\n",
    "\n",
    "Ho deciso di bilanciare con i criteri spiegati qui di seguito. \n",
    "Dal momento che i libri delle autrici sono più numerosi ma generalmente più corti, mentre quelli degli autori sono di meno ma più lunghi, nel corpus finale per gli autori vanno inseriti quanti più libri possibile (che è un requirement che applichiamo anche al corpus femminile), però il più corti possibile; vice versa, per le autrici vogliamo mantenere sì quanti più libri possibile, ma devono essere i più lunghi tra quelli disponibili. Per mantenere un bilanciamento a livello di varietà di autore, e per farlo all'interno di ciascun decennio, ho suddiviso il corpus per decenni e ho applicato questo criterio di scelta in ciascun decennio *e ai libri di ciascun autore*. In poche parole, per il sottoinsieme di libri di ciascun decennio:\n",
    "* il numero di autori presenti per decade è costante (tutti gli autori appaiono con *almeno un libro* in ciascun decennio). in tal modo si rappresenta anche la proporzione di numero di libri scritti da ciascun autore presente nel corpus. \n",
    "* la dimensione dei testi per ciascun autore, relativamente a ciascun decennio, è minimizzata per gli autori e massimizzata per le autrici. \n",
    "* c'è un solo parametro che è diverso tra corpus maschile e femminile, ovvero il numero n di testi da scegliere, rispettivamente tra i più corti e tra i più lunghi, per ciascun autore, relativamente a ciascun decennio. Con n=6 per il corpus maschile e n=10 per quello femminile, la differenza di token totali tra i due corpus di riduce a meno di 300'000, e allo stesso tempo garantisce un numero ampio di documenti. Possiamo regolare questo parametro a seconda delle nostre esigenze.\n",
    "\n"
   ]
  },
  {
   "cell_type": "code",
   "execution_count": 31,
   "metadata": {},
   "outputs": [],
   "source": [
    "import re\n",
    "\n",
    "\n",
    "male_authors_data = []\n",
    "female_authors_data = []\n",
    "for key, value in male_n_of_words.items():\n",
    "    author = re.search(\"(?<=_)(.*?)(?=-)\", key).group(0)\n",
    "    year = re.search(\"\\d{3}.\", key).group(0)\n",
    "    decade = (re.search(\"\\d{3}\", key).group(0)) + \"0s\"\n",
    "    book_dict = dict()\n",
    "    book_dict['book_title'] = key\n",
    "    book_dict['author'] = author\n",
    "    book_dict['year'] = year\n",
    "    book_dict['decade'] = decade\n",
    "    book_dict['tokens_in_book'] = value\n",
    "    male_authors_data.append(book_dict)\n",
    "\n",
    "\n",
    "for key, value in female_n_of_words.items():\n",
    "    author = re.search(\"(?<=_)(.*?)(?=-)\", key).group(0)\n",
    "    year = re.search(\"\\d{3}.\", key).group(0)\n",
    "    decade = (re.search(\"\\d{3}\", key).group(0)) + \"0s\"\n",
    "    book_dict = dict()\n",
    "    book_dict['book_title'] = key\n",
    "    book_dict['author'] = author\n",
    "    book_dict['year'] = year\n",
    "    book_dict['decade'] = decade\n",
    "    book_dict['tokens_in_book'] = value\n",
    "    female_authors_data.append(book_dict)\n",
    "\n",
    "\n",
    "#print(len(male_authors_data))\n",
    "#print(len(female_authors_data))"
   ]
  },
  {
   "cell_type": "code",
   "execution_count": 32,
   "metadata": {},
   "outputs": [],
   "source": [
    "#create a csv with metadata of non-balanced corpus, containing also the number of tokens per book\n",
    "\n",
    "import csv\n",
    "with open('m_data_table.csv', 'w', encoding='utf-8') as file:\n",
    "    fields = ['book_title','author','year','decade','tokens_in_book']\n",
    "    writer = csv.DictWriter(file, fieldnames=fields)\n",
    "    writer.writeheader\n",
    "    for row in male_authors_data:\n",
    "        writer.writerow(row)\n",
    "\n",
    "import csv\n",
    "with open('f_data_table.csv', 'w', encoding='utf-8') as file:\n",
    "    fields = ['book_title','author','year','decade','tokens_in_book']\n",
    "    writer = csv.DictWriter(file, fieldnames=fields)\n",
    "    writer.writeheader\n",
    "    for row in female_authors_data:\n",
    "        writer.writerow(row)"
   ]
  },
  {
   "cell_type": "code",
   "execution_count": 33,
   "metadata": {},
   "outputs": [],
   "source": [
    "m_list_by_decades = []\n",
    "m_dec1830 = [book for book in male_authors_data if (book[\"decade\"]) == \"1830s\"]\n",
    "m_list_by_decades.append(m_dec1830)\n",
    "m_dec1840 = [book for book in male_authors_data if (book[\"decade\"]) == \"1840s\"]\n",
    "m_list_by_decades.append(m_dec1840)\n",
    "m_dec1850 = [book for book in male_authors_data if (book[\"decade\"]) == \"1850s\"]\n",
    "m_list_by_decades.append(m_dec1850)\n",
    "m_dec1860 = [book for book in male_authors_data if (book[\"decade\"]) == \"1860s\"]\n",
    "m_list_by_decades.append(m_dec1860)\n",
    "m_dec1870 = [book for book in male_authors_data if (book[\"decade\"]) == \"1870s\"]\n",
    "m_list_by_decades.append(m_dec1870)\n",
    "m_dec1880 = [book for book in male_authors_data if (book[\"decade\"]) == \"1880s\"]\n",
    "m_list_by_decades.append(m_dec1880)\n",
    "m_dec1890 = [book for book in male_authors_data if (book[\"decade\"]) == \"1890s\"]\n",
    "m_list_by_decades.append(m_dec1890)\n",
    "m_dec1900 = [book for book in male_authors_data if (book[\"decade\"]) == \"1900s\"]\n",
    "m_list_by_decades.append(m_dec1900)\n",
    "m_dec1910 = [book for book in male_authors_data if (book[\"decade\"]) == \"1910s\"]\n",
    "m_list_by_decades.append(m_dec1910)\n",
    "\n",
    "f_list_by_decades = []\n",
    "f_dec1830 = [book for book in female_authors_data if (book[\"decade\"]) == \"1830s\"]\n",
    "f_list_by_decades.append(f_dec1830)\n",
    "f_dec1840 = [book for book in female_authors_data if (book[\"decade\"]) == \"1840s\"]\n",
    "f_list_by_decades.append(f_dec1840)\n",
    "f_dec1850 = [book for book in female_authors_data if (book[\"decade\"]) == \"1850s\"]\n",
    "f_list_by_decades.append(f_dec1850)\n",
    "f_dec1860 = [book for book in female_authors_data if (book[\"decade\"]) == \"1860s\"]\n",
    "f_list_by_decades.append(f_dec1860)\n",
    "f_dec1870 = [book for book in female_authors_data if (book[\"decade\"]) == \"1870s\"]\n",
    "f_list_by_decades.append(f_dec1870)\n",
    "f_dec1880 = [book for book in female_authors_data if (book[\"decade\"]) == \"1880s\"]\n",
    "f_list_by_decades.append(f_dec1880)\n",
    "f_dec1890 = [book for book in female_authors_data if (book[\"decade\"]) == \"1890s\"]\n",
    "f_list_by_decades.append(f_dec1890)\n",
    "f_dec1900 = [book for book in female_authors_data if (book[\"decade\"]) == \"1900s\"]\n",
    "f_list_by_decades.append(f_dec1900)\n",
    "f_dec1910 = [book for book in female_authors_data if (book[\"decade\"]) == \"1910s\"]\n",
    "f_list_by_decades.append(f_dec1910)\n"
   ]
  },
  {
   "cell_type": "markdown",
   "metadata": {},
   "source": [
    "https://stackoverflow.com/questions/1143671/how-to-sort-objects-by-multiple-keys"
   ]
  },
  {
   "cell_type": "code",
   "execution_count": 34,
   "metadata": {},
   "outputs": [
    {
     "data": {
      "text/plain": [
       "'\"\"from operator import itemgetter\\n\\n\\nmale_authors_data = sorted(male_authors_data, key=itemgetter(\\'tokens_in_book\\', \\'decade\\'))\\nmale_authors_data = sorted(male_authors_data, key=lambda k: (k[\\'decade\\'], k[\\'tokens_in_book\\']))\\nmale_authors_data = sorted(male_authors_data, key=lambda k: (k[\\'decade\\'], -k[\\'tokens_in_book\\']))\\n\\nfor i in male_authors_data:\\n    print(i)\\n'"
      ]
     },
     "execution_count": 34,
     "metadata": {},
     "output_type": "execute_result"
    }
   ],
   "source": [
    "\"\"\"\"\"from operator import itemgetter\n",
    "\n",
    "\n",
    "male_authors_data = sorted(male_authors_data, key=itemgetter('tokens_in_book', 'decade'))\n",
    "male_authors_data = sorted(male_authors_data, key=lambda k: (k['decade'], k['tokens_in_book']))\n",
    "male_authors_data = sorted(male_authors_data, key=lambda k: (k['decade'], -k['tokens_in_book']))\n",
    "\n",
    "for i in male_authors_data:\n",
    "    print(i)\n",
    "\"\"\"\"\""
   ]
  },
  {
   "cell_type": "markdown",
   "metadata": {},
   "source": [
    "IMPORTANTE: https://stackoverflow.com/questions/57597433/filtering-a-list-of-dictionaries-based-on-multiple-values"
   ]
  },
  {
   "cell_type": "code",
   "execution_count": 35,
   "metadata": {},
   "outputs": [
    {
     "name": "stdout",
     "output_type": "stream",
     "text": [
      "New number of books in male corpus: 109\n",
      "New total number of tokens in male corpus: 8797218\n"
     ]
    }
   ],
   "source": [
    "from itertools import groupby\n",
    "\n",
    "\n",
    "male_balanced_data = []\n",
    "\n",
    "\"\"\"\n",
    "for l in m_list_by_decades:#TAKES JUST THE ONE SHORTEST BOOK FOR AUTHOR FOR DECADE\n",
    "\n",
    "    sorted_list = sorted(l, key=lambda dict: dict['author'])\n",
    "    result = [min(g, key=lambda j: j[\"tokens_in_book\"]) for k,g in groupby(sorted_list , key=lambda i: i[\"author\"])]\n",
    "    male_balanced_data.extend(result)\n",
    "\"\"\"\n",
    "\n",
    "#--------------OPPURE---------------\n",
    "for l in m_list_by_decades:#TAKES THE N SHORTEST BOOKS FOR AUTHOR FOR DECADE\n",
    "\n",
    "    sorted_list = sorted(l, key=lambda dict: dict['author'])\n",
    "    n = 6 #number of SHORTEST book per author per decade to be included\n",
    "    to_add = [sorted(g, key=lambda j: j[\"tokens_in_book\"])[:n] for k,g in groupby(sorted_list , key=lambda i: i[\"author\"])] # takes the n FIRST elements from the sorted list\n",
    "    male_balanced_data.extend(to_add)\n",
    "\n",
    "\n",
    "male_balanced_data = [dic for l in male_balanced_data for dic in l] #unpacks the list of lists of dictionaries into a list of dictionaries\n",
    "print(\"New number of books in male corpus:\", len(male_balanced_data))\n",
    "print(\"New total number of tokens in male corpus:\", sum([dictionary['tokens_in_book'] for dictionary in male_balanced_data]))\n"
   ]
  },
  {
   "cell_type": "code",
   "execution_count": 36,
   "metadata": {},
   "outputs": [
    {
     "name": "stdout",
     "output_type": "stream",
     "text": [
      "New number of books in female corpus: 157\n",
      "New total number of tokens in female corpus: 8534374\n"
     ]
    }
   ],
   "source": [
    "from itertools import groupby\n",
    "\n",
    "\n",
    "female_balanced_data = []\n",
    "\n",
    "\"\"\"\n",
    "for l in f_list_by_decades:#TAKES JUST THE ONE SHORTEST BOOK FOR AUTHOR FOR DECADE\n",
    "\n",
    "    sorted_list = sorted(l, key=lambda dict: dict['author'])\n",
    "    result = [min(g, key=lambda j: j[\"tokens_in_book\"]) for k,g in groupby(sorted_list , key=lambda i: i[\"author\"])]\n",
    "    female_balanced_data.extend(result)\n",
    "\"\"\"\n",
    "\n",
    "#--------------OPPURE---------------\n",
    "for l in f_list_by_decades:#TAKES THE N SHORTEST BOOKS FOR AUTHOR FOR DECADE\n",
    "\n",
    "    sorted_list = sorted(l, key=lambda dict: dict['author'])\n",
    "    n = 10 #number of LARGEST book per author per decade to be included\n",
    "    to_add = [sorted(g, key=lambda j: j[\"tokens_in_book\"])[-n:] for k,g in groupby(sorted_list , key=lambda i: i[\"author\"])] # takes the n LAST elements from the sorted list\n",
    "    female_balanced_data.extend(to_add)\n",
    "\n",
    "\n",
    "female_balanced_data = [dic for l in female_balanced_data for dic in l] #unpacks the list of lists of dictionaries into a list of dictionaries\n",
    "print(\"New number of books in female corpus:\", len(female_balanced_data))\n",
    "print(\"New total number of tokens in female corpus:\", sum([dictionary['tokens_in_book'] for dictionary in female_balanced_data]))"
   ]
  },
  {
   "cell_type": "code",
   "execution_count": 37,
   "metadata": {},
   "outputs": [
    {
     "name": "stdout",
     "output_type": "stream",
     "text": [
      "🎇Balanced corpus of male writers: ['1836_marryat-mr-midshipman-easy', '1841_marryat-masterman-ready', '1844_marryat-the-settlers-in-canada', '1845_dickens-the-cricket-on-the-hearth-a-fairy-tale-of-home', '1847_marryat-the-children-of-the-new-forest', '1848_marryat-the-little-savage', '1851_ruskin-the-king-of-the-golden-river', '1855_kingsley-westward-ho', '1856_ballantyne-the-young-fur-traders', '1857_ballantyne-the-coral-island-a-tale-of-the-pacific-ocean', '1857_hughes-tom-browns-school-days', '1858_ballantyne-martin-rattler', '1858_farrar-eric-or-little-by-little', '1861_hughes-tom-brown-at-oxford', '1862_farrar-st-winfreds-the-world-of-school', '1863_ballantyne-fighting-the-whales', '1863_kingsley-the-water-babies', '1865_ballantyne-the-lighthouse', '1865_carroll-alices-adventures-in-wonderland', '1869_dickens-david-copperfield', '1870_hemyng-jack-harkaways-boy-tinker-among-the-turks', '1871_carroll-through-the-looking-glass', '1871_macdonald-at-the-back-of-the-north-wind', '1871_macdonald-ranald-bannermans-boyhood', '1872_ballantyne-the-pioneers', '1872_macdonald-the-princess-and-the-goblin', '1873_ballantyne-life-in-the-red-brigade', '1873_macdonald-gutta-percha-willie-the-working-genius', '1874_ballantyne-the-pirate-city-an-algerine-tale', '1875_ballantyne-rivers-of-ice', '1875_macdonald-a-double-story', '1876_adams-hair-breadth-escapes-the-adventures-of-the-three-boys-in-south-africa', '1877_ballantyne-the-settler-and-the-savage', '1878_kingston-the-three-admirals', '1879_hemyng-jack-harkaway-in-new-york', '1879_hemyng-the-slave-of-the-mine', '1881_ballantyne-my-doggie-and-i', '1881_reed-the-fifth-form-at-st-dominics', '1882_ballantyne-the-life-of-a-ship', '1882_henty-facing-death', '1882_jefferies-bevis-the-story-of-a-boy', '1883_ballantyne-battles-with-the-sea', '1883_ballantyne-the-thorogood-family', '1883_fenn-nat-the-naturalist-a-boys-adventures-in-the-eastern-seas', '1883_kingston-adventures-in-africa', '1883_macdonald-the-princess-and-curdie', '1883_reed-the-adventures-of-a-three-guinea-watch', '1883_stevenson-treasure-island', '1884_collingwood-the-pirate-island-a-story-of-the-south-pacific', '1884_collingwood-under-the-meteor-flag-log-of-a-midshipman-during-the-french-revolutionary-ear', '1884_fenn-through-forest-and-stream', '1884_lang-the-princess-nobody-a-tale-of-fairyland', '1885_collingwood-the-congo-rovers-a-story-of-the-slave-squadron', '1885_collingwood-the-voyage-of-the-aurora', '1885_fenn-the-new-forest-spy', '1885_henty-the-dragon-and-the-raven', '1885_henty-the-young-colonists', '1885_kingston-adventures-in-australia', '1885_reed-follow-my-leader', '1885_reed-reginald-cruden', '1886_ballantyne-the-lively-poll', '1886_ballantyne-the-prairie-chief', '1886_fenn-son-phillip', '1886_henty-for-name-and-fame', '1886_henty-within-the-enemy-lines', '1886_stevenson-kidnapped', '1887_adams-perils-in-the-transvaal-and-zululand', '1887_collingwood-the-rovers-secret-a-tale-of-the-pirate-cays-and-lagoons-of-cuba', '1887_fenn-the-bag-of-diamonds', '1887_reed-the-master-of-the-shell', '1888_henty-sturdy-and-strong', '1888_in-the-reign-of-terror', '1888_lang-the-gold-of-fairnilee', '1888_macdonald-a-rough-shaking', '1888_wilde-the-happy-prince-and-other-tales', '1889_fenn-three-boys', '1889_lang-prince-prigio', '1889_reed-sir-ludar', '1890_ballantyne-the-eagle-cliff', '1891_reed-roger-ingleton-minor', '1893_reed-the-cock-house-at-fellsgarth', '1893_stevenson-catriona', '1894_collingwood-the-cruise-of-the-esmeralda', '1894_kipling-the-jungle-book', '1894_reed-a-dog-with-a-bad-name', '1894_reed-tom-dick-and-harry', '1895_collingwood-the-pirate-slaver-a-story-of-the-west-african-coast', '1895_kipling-the-second-jungle-book', '1895_reed-kilgorman-a-story-of-ireland-in-1798', '1896_collingswood-the-log-of-privateersman', '1897_kipling-captains-courageous-a-story-of-the-grand-banks', '1898_collingwood-a-pirate-of-the-caribbees', '1898_farrow-the-wallypug-in-london', '1899_collingwood-the-castaways', '1899_kipling-stalky-and-co', '1900_farrow-the-jungle-baby', '1906_collingwood-across-the-spanish-main-a-tale-of-the-sea-in-the-days-of-queen-bess', '1907_collingwood-with-airship-and-submarine-a-tale-of-adventure', '1908_collingwood-a-middy-in-command-a-tale-of-the-slave-squadron', '1908_collingwood-under-the-chilian-flag-a-tale-of-war-between-chili-and-peru', '1909_collingwood-harry-escombe-a-tale-of-adventure-in-peru', '1909_collingwood-the-cruise-of-the-thetis-a-tale-of-the-cuban-insurrection', '190x_hemyng-jack-harkaway-and-his-sons-escape-from-the-brigands-of-greece', '1910_collingwood-a-middy-of-the-slave-squadron-a-west-african-story', '1910_kipling-rewards-and-fairies', '1911_collingwood-a-middy-of-the-king-a-romance-of-the-old-british-navy', '1911_collingwood-the-adventures-of-dick-maitland-a-tale-of-unknown-africa', '1912_collingwood-two-gallant-sons-of-davon-a-tale-of-the-days-of-queen-bess', '1914_collingwood-the-first-mate-the-story-of-a-strange-cruise']\n",
      "🎇Balanced corpus of female writers: ['1835_sherwood-shanty-the-blacksmith-a-tale-of-other-times', '1839_sinclair-holiday-house-a-series-of-tales', '1841_martineau-the-settlers-at-home', '1850_sherwood-the-young-lord-and-other-tales-to-which-is-added-victorine-durocher', '1851_hall-turns-of-fortune-and.other-tales', '1853_yonge-the-heir-of-redclyffe', '1854_yonge-the-little-duke-richard-the-fearless', '1855_yonge-the-lances-of-lynwood', '1856_yonge-the-daisy-chain-or-aspirations', '1857_browne-grannys-wonderful-chair', '1857_tucker-the-rambles-of-a-rat', '1858_tucker-flora', '1860_yonge-countess-kate', '1860_yonge-the-pigeon-pie', '1861_yonge-the-stokesley-secret', '1862_ewing-melchiors-dream-and-other-tales', '1863_tucker-the-crown-of-success', '1866_yonge-the-prince-and-the-page-a-story-of-the-last-crusade', '1867_stretton-jessicas-first-prayer-and-jessicas-mother', '1868_stretton-little-megs-children', '1869_ewing-mrs-overtheways-remembrances', '1869_ewing-the-land-of-lost-toys', '1869_stretton-alone-in-london', '1870_ewing-the-brownies-and-other-tales', '1871_yonge-little-lucys-wonderful-globe', '1872_craik-the-adventure-of-a-brownie', '1872_de_la_ramee-a-dog-of-flanders', '1872_meade-scamp-and-i-a-story-of-city-by-ways', '1873_ewing-a-flat-iron-for-a-farthing', '1875_craik-the-little-lame-prince-and-his-traveling-cloack', '1875_molesworth-tell-me-a-story', '1875_tucker-the-childrens-tabernacle-or-hand-work-and-heart-work', '1876_ewing-jan-of-the-windmill', '1876_ewing-six-to-sixteen-a-story-for-girls', '1876_molesworth-carrots-just-a-little-boy', '1877_ewing-a-great-emergency-and-other-tales', '1877_meade-davids-little-lad', '1877_molesworth-the-cuckoo-clock', '1877_sewell-black-beauty', '1878_molesworth-grandmother-dear-a-book-for-boys-and-girls', '1879_coleridge-the-constant-prince', '1879_ewing-jackanapes-daddy-darwins-dovecot-and-other-stories', '1879_molesworth-the-tapestry-room-a-childs-romance', '1880_burnett-louisiana', '1880_meade-mou-sete-a-negro-hero', '1880_molesworth-a-christmas-child-a-sketch-of-a-boy-life', '1882_delaramee-bimbi', '1882_ewing-brothers-of-pity-and-other-tales-of-beasts-and-men', '1882_meade-a-london-baby-the-story-of-king-roy', '1883_ewing-marys-meadow-and-other-tales-of-fields-and-flowers', '1883_meade-the-childrens-pilgrimage', '1883_molesworth-the-boys-and-i-a-childs-story-for-children', '1883_molesworth-two-little-waifs', '1884_molesworth-the-little-old-portrait', '1886_delaramee-a-houseparty', '1886_hodgson-burnett-little-lord-fauntleroy', '1886_leslie-a-sailors-lass', '1886_meade-a-world-of-girls', '1886_molesworth-christmas-tree-land', '1886_molesworth-us-an-old-fashioned-story', '1887_leslie-kates-ordeal', '1887_meade-the-palace-beautiful', '1887_molesworth-silverthorns', '1887_peard-prentice-hugh', '1888_burnett-little-saint-elizabeth-and-other-tales', '1888_burnett-sara-crewe', '1888_ewing-snap-dragons-old-father-christmas', '1888_meade-the-little-princess-of-towerhill', '1888_molesworth-a-christmas-posy', '1888_molesworth-the-third-miss-st-quentin', '1889_meade-polly-a-new-fashioned-girl', '1889_molesworth-the-rectory-children', '1889_tytler-a-house-full-of-girls', '1890_coleridge-maud-florence-nellie', '1890_meade-the-honorable-miss-a-story-of.an-old-fashioned-town', '1890_molesworth-robin-redbreast-a-story-for-girls', '1890_molesworth-the-children-of-the-castle', '1891_meade-a-sweet-girl-graduate', '1891_molesworth-nurse-heatherdales-story', '1892_everett_green-the-lord-of-dynevor-a-tale-of-the-times-of-edward-the-first', '1892_meade-the-lady-of-the-forest-a-story-for-girls', '1892_molesworth-the-girls-and-i-a-veracious-history', '1893_everett_green-in-the-days-of-chivalry-a-tale-of-the-times-of-the-black-prince', '1893_molesworth-blanche-a-story-for-girls', '1894_everett_green-the-lost-treasure-of-trevlyn-a-story-of-the-days-of-the-gunpowder-plot', '1894_everett_green-the-secret-chamber-at-chad', '1894_meade-red-rose-and-tiger-lily-or-in-a-wider-world', '1894_molesworth-my-new-home', '1895_burnett-two-little-pilgrims-process-a-story-of-the-city-beautiful', '1895_ewing-the-peace-egg-and-other-tales', '1895_meade-girls-new-and-old', '1895_molesworth-the-carved-lions', '1896_meade-a-little-mother-to-the-others', '1896_molesworth-philippa', '1897_meade-wild-kitty', '1897_molesworth-hoodie', '1897_molesworth-miss-mouse-and-her-boys', '1898_everett_green-a-clerk-of-oxford-and-his-adventures-in-the-barons-war', '1898_everett_green-tom-tuftons-travels', '1898_meade-a-bunch-of-cherries-a-story-of-cherry-court-school', '1898_meade-the-girls-of-st-wodes', '1899_everett_green-french-and.english-a-story-of-the-struggle-in-america', '1899_meade-light-o-the-morning', '1899_nesbit-pussy-and-doggy-tales', '1899_nesbit-the-story-of-the-treasure-seekers', '1900_everett_green-esthers-charge-a-story-for-girls', '1900_meade-a-plucky-girl', '1900_molesworth-the-house-that-grew', '1901_everett_green-in-the-wars-of-the-roses-a-story-for-the-young', '1901_meade-a-very-naughty-girl', '1901_meade-girls-of-the-true-blue', '1901_molesworth-the-wood-pigeons-and-mary', '1901_nesbit-the-book-of-dragons', '1901_nesbit-the-wouldbegoods', '1902_everett_green-for-the-faith-a-story-of-the-young-pioneers-of-reformation-in-oxford', '1902_meade-girls-of.the-forest', '1902_molesworth-peterkin', '1902_potter-the-tale-of-peter-rabbit', '1903_potter-the-tailor-of-gloucester', '1903_potter-the-tale-of-squirrel-nutkin', '1904_burnett-in-the-closed-room', '1904_everett_green-the-sign-of-the-red-cross-a-tale-of-old-london', '1904_meade-a-modern-tomboy-a-story-for-girls', '1904_nesbit-the-phoenix-and-the-carpet', '1904_potter-the-tale-of-benjamin-bunny', '1904_potter_the-tale-of-two-bad-mice', '1905_meade-a-bevy-of-girls', '1905_meade-a-plain-girl', '1905_nesbit-new-treasure-seekers-or-the-bastable-children-in-search-of-a-fortune', '1905_potter-the-tale-of-mrs-riggy-winkle', '1905_potter-the-tale-of-the-pie-and-the-the-patty-pan', '1906_burnett-racketty-packetty-house', '1906_everett_green-a-heroine-of-france-the-story-of-joan-of-arc', '1906_everett_green-fallen-fortunes', '1906_meade-turquoise-and-ruby', '1906_molesworth-jasper', '1906_nesbit-the-story-of-the-amulet', '1907_burnett-the-cozy-lion', '1907_meade-the-little-school-mothers', '1907_meade-three-girls-from-school', '1907_nesbit-the-enchanted-castle', '1908_burnett-the-good-wolf', '1908_potter-the-tale-of-jemina-puddle-duck', '1908_potter-the-tale-of-samuel-whiskers-the-roly-poly-pudding', '1909_burnett-barty-crusoe-and-his-man-saturday', '1909_potter-the-tale-of-ginger-and-pickles', '1909_potter-the-tale-of-the-flopsy-bunnies', '1910_meade-betty-vivian-a-story-of-haddo-court-school', '1910_meade-sue-a-little-heroine', '1910_meade-the-school-queens', '1910_potter-the-tale-pf-mrs-tittlemouse', '1911_burnett-the-secret-garden', '1911_nesbit-the-wonderful-garden-oir-the-three-cs', '1911_potter-the-tale-of-timmy-tiptoes', '1912_nesbit-the-magic-world', '1912_potter-the-tale-of-mr-tod', '1913_nesbit-wet-magic']\n"
     ]
    }
   ],
   "source": [
    "male_balanced_corpus = sorted([dict['book_title'] for dict in male_balanced_data])\n",
    "female_balanced_corpus = sorted([dict['book_title'] for dict in female_balanced_data])\n",
    "\n",
    "print(f\"🎇Balanced corpus of male writers:\", male_balanced_corpus)\n",
    "print(f\"🎇Balanced corpus of female writers:\", female_balanced_corpus)"
   ]
  },
  {
   "cell_type": "code",
   "execution_count": 38,
   "metadata": {},
   "outputs": [],
   "source": [
    "#save balanced corpus metadata in a .csv file\n",
    "with open('m_balanced_corpus.csv', 'w', encoding='utf-8') as output_file:\n",
    "    fields = ['book_title','author','year','decade','tokens_in_book']\n",
    "    writer = csv.DictWriter(output_file, fieldnames=fields)\n",
    "    writer.writeheader\n",
    "    for row in male_balanced_data:\n",
    "        writer.writerow(row)\n",
    "\n",
    "with open('f_balanced_corpus.csv', 'w', encoding='utf-8') as output_file:\n",
    "    fields = ['book_title','author','year','decade','tokens_in_book']\n",
    "    writer = csv.DictWriter(output_file, fieldnames=fields)\n",
    "    writer.writeheader\n",
    "    for row in female_balanced_data:\n",
    "        writer.writerow(row)"
   ]
  },
  {
   "cell_type": "markdown",
   "metadata": {},
   "source": [
    "This last step copies the files from the old folder and paste them into the folder of the new, balanced, corpus. "
   ]
  },
  {
   "cell_type": "code",
   "execution_count": 41,
   "metadata": {},
   "outputs": [],
   "source": [
    "import shutil\n",
    "from pathlib import Path \n",
    "\n",
    "m_balanced_corpus = \"C:/Users/media/Desktop/gobbykid/balanced_corpus/m/\"\n",
    "f_balanced_corpus = \"C:/Users/media/Desktop/gobbykid/balanced_corpus/f/\"\n",
    "\n",
    "\n",
    "for file in male_files:\n",
    "    filename = Path(file).stem\n",
    "    if filename in male_balanced_corpus:\n",
    "        shutil.copy(file, m_balanced_corpus+filename+\".txt\")\n",
    "\n",
    "for file in female_files:\n",
    "    filename = Path(file).stem\n",
    "    if filename in female_balanced_corpus:\n",
    "        shutil.copy(file, f_balanced_corpus+filename+\".txt\")"
   ]
  }
 ],
 "metadata": {
  "kernelspec": {
   "display_name": "Python 3.9.0 64-bit",
   "language": "python",
   "name": "python3"
  },
  "language_info": {
   "codemirror_mode": {
    "name": "ipython",
    "version": 3
   },
   "file_extension": ".py",
   "mimetype": "text/x-python",
   "name": "python",
   "nbconvert_exporter": "python",
   "pygments_lexer": "ipython3",
   "version": "3.9.0"
  },
  "orig_nbformat": 4,
  "vscode": {
   "interpreter": {
    "hash": "11938c6bc6919ae2720b4d5011047913343b08a43b18698fd82dedb0d4417594"
   }
  }
 },
 "nbformat": 4,
 "nbformat_minor": 2
}
