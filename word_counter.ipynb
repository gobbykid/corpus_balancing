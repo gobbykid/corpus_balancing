{
 "cells": [
  {
   "cell_type": "code",
   "execution_count": 2,
   "metadata": {},
   "outputs": [],
   "source": [
    "import glob\n",
    "from pathlib import Path\n",
    "from tqdm import tqdm"
   ]
  },
  {
   "cell_type": "code",
   "execution_count": 3,
   "metadata": {},
   "outputs": [],
   "source": [
    "\n",
    "male_directory = \"C:/Users/media/Desktop/gobbykid/corpus/gobbykidCorpus/male-writers\"\n",
    "female_directory = \"C:/Users/media/Desktop/gobbykid/corpus/gobbykidCorpus/female-writers\"\n",
    "\n",
    "male_files = glob.glob(f\"{male_directory}/*.txt\")\n",
    "female_files = glob.glob(f\"{female_directory}/*.txt\")"
   ]
  },
  {
   "cell_type": "code",
   "execution_count": 4,
   "metadata": {},
   "outputs": [],
   "source": [
    "male_n_of_words = dict()\n",
    "for file in male_files:\n",
    "    text = open(file, 'rb').read()\n",
    "    n_of_words = len(text.split())\n",
    "    male_n_of_words[Path(file).stem] = n_of_words\n",
    "\n",
    "female_n_of_words = dict()\n",
    "for file in female_files:\n",
    "    text = open(file, 'rb').read()\n",
    "    n_of_words = len(text.split())\n",
    "    female_n_of_words[Path(file).stem] = n_of_words"
   ]
  },
  {
   "cell_type": "code",
   "execution_count": 5,
   "metadata": {},
   "outputs": [
    {
     "name": "stdout",
     "output_type": "stream",
     "text": [
      "🎇Number of words in books written by male authors:  {'1836_marryat-mr-midshipman-easy': 139069, '1841_marryat-masterman-ready': 99247, '1844_marryat-the-settlers-in-canada': 110639, '1845_dickens-the-cricket-on-the-hearth-a-fairy-tale-of-home': 31427, '1847_marryat-the-children-of-the-new-forest': 113784, '1848_marryat-the-little-savage': 96774, '1851_ruskin-the-king-of-the-golden-river': 9096, '1855_kingsley-westward-ho': 251520, '1856_ballantyne-the-young-fur-traders': 120802, '1857_ballantyne-the-coral-island-a-tale-of-the-pacific-ocean': 99152, '1857_hughes-tom-browns-school-days': 105341, '1858_ballantyne-martin-rattler': 59878, '1858_farrar-eric-or-little-by-little': 93363, '1861_hughes-tom-brown-at-oxford': 246071, '1862_farrar-st-winfreds-the-world-of-school': 131343, '1863_ballantyne-fighting-the-whales': 23096, '1863_kingsley-the-water-babies': 68507, '1865_ballantyne-the-lighthouse': 88299, '1865_carroll-alices-adventures-in-wonderland': 26443, '1869_dickens-david-copperfield': 353917, '1870_hemyng-jack-harkaways-boy-tinker-among-the-turks': 83631, '1871_carroll-through-the-looking-glass': 29259, '1871_macdonald-at-the-back-of-the-north-wind': 88514, '1871_macdonald-ranald-bannermans-boyhood': 71619, '1872_ballantyne-the-pioneers': 24948, '1872_macdonald-the-princess-and-the-goblin': 50800, '1873_ballantyne-life-in-the-red-brigade': 30941, '1873_macdonald-gutta-percha-willie-the-working-genius': 47724, '1874_ballantyne-the-pirate-city-an-algerine-tale': 86084, '1875_ballantyne-rivers-of-ice': 93816, '1875_macdonald-a-double-story': 34121, '1876_adams-hair-breadth-escapes-the-adventures-of-the-three-boys-in-south-africa': 97970, '1877_ballantyne-the-settler-and-the-savage': 91021, '1878_kingston-the-three-admirals': 171912, '1879_hemyng-jack-harkaway-in-new-york': 31252, '1879_hemyng-the-slave-of-the-mine': 18833, '1880_ballantyne-post-haste': 90950, '1880_ballantyne-the-crew-of-the-water-wagtail': 57621, '1880_ballantyne-the-red-mans-revenge-a-tale-of-the-red-river-flood': 70404, '1880_henty-for-the-temple': 120998, '1880_henty-the-young-buglers': 102363, '1881_ballantyne-my-doggie-and-i': 40015, '1881_ballantyne-the-giant-of-the-north-pokings-round-the-pole': 93393, '1881_henty-in-times-of-peril': 107085, '1881_henty-the-cornet-of-horse': 104280, '1881_reed-the-fifth-form-at-st-dominics': 109407, '1882_ballantyne-the-battery-and-the-boiler': 88116, '1882_ballantyne-the-life-of-a-ship': 6533, '1882_henty-facing-death': 72045, '1882_henty-winning-his-spurs': 96282, '1882_jefferies-bevis-the-story-of-a-boy': 177248, '1883_ballantyne-battles-with-the-sea': 23852, '1883_ballantyne-the-thorogood-family': 21770, '1883_fenn-middy-and-ensign': 143231, '1883_fenn-nat-the-naturalist-a-boys-adventures-in-the-eastern-seas': 79964, '1883_fenn-the-golden-magnet': 98426, '1883_henty-friends-though-divided': 102920, '1883_henty-jack-archer': 95420, '1883_henty-under-drakes-flag': 108159, '1883_kingston-adventures-in-africa': 36258, '1883_macdonald-the-princess-and-curdie': 55887, '1883_reed-the-adventures-of-a-three-guinea-watch': 74519, '1883_stevenson-treasure-island': 67869, '1884_ballantyne-dusty-diamonds-cut-and-polished': 92896, '1884_ballantyne-the-young-trawler': 88084, '1884_collingwood-the-pirate-island-a-story-of-the-south-pacific': 112939, '1884_collingwood-under-the-meteor-flag-log-of-a-midshipman-during-the-french-revolutionary-ear': 141098, '1884_fenn-bunyip-land': 104108, '1884_fenn-the-silver-canyon': 93129, '1884_fenn-through-forest-and-stream': 31940, '1884_henty-by-sheer-pluck': 96280, '1884_henty-st-george-for-england': 99625, '1884_henty-with-clive-in-india': 120192, '1884_lang-the-princess-nobody-a-tale-of-fairyland': 5098, '1885_ballantyne-the-island-queen': 56701, '1885_ballantyne-the-rover-of-the-andes': 93394, '1885_ballantyne-twice-bought': 73575, '1885_collingwood-the-congo-rovers-a-story-of-the-slave-squadron': 101108, '1885_collingwood-the-voyage-of-the-aurora': 86714, '1885_fenn-menhardoc': 100602, '1885_fenn-the-new-forest-spy': 35448, '1885_henty-the-dragon-and-the-raven': 82015, '1885_henty-the-young-colonists': 75924, '1885_kingston-adventures-in-australia': 36118, '1885_reed-follow-my-leader': 100091, '1885_reed-reginald-cruden': 90572, '1886_ballantyne-red-rooney-the-last-of-the-crew': 95034, '1886_ballantyne-the-lively-poll': 32328, '1886_ballantyne-the-prairie-chief': 52856, '1886_fenn-brown-smiths-boy': 109634, '1886_fenn-patience-wins': 98958, '1886_fenn-son-phillip': 12578, '1886_henty-for-name-and-fame': 85313, '1886_henty-orange-and-green': 94345, '1886_henty-the-bravest-of-the-brave': 90401, '1886_henty-the-lion-of-the-north': 106489, '1886_henty-through-the-fray': 102835, '1886_henty-within-the-enemy-lines': 63045, '1886_stevenson-kidnapped': 79974, '1887_adams-perils-in-the-transvaal-and-zululand': 108646, '1887_ballantyne-the-bigotter': 93841, '1887_ballantyne-the-fugitives-the-tyrant-queen-of-madagascar': 93393, '1887_collingwood-the-rovers-secret-a-tale-of-the-pirate-cays-and-lagoons-of-cuba': 121651, '1887_fenn-the-bag-of-diamonds': 45207, '1887_fenn-the-devon-boys': 109106, '1887_henty-a-final-reckoning': 100202, '1887_henty-bonnie-prince-charlie': 111713, '1887_henty-the-young-carthaginian': 116427, '1887_reed-the-master-of-the-shell': 98093, '1887_reed-the-willoughby-captains': 123782, '1888_ballantyne-blue-lights-hot-work-in-the-soudan': 91590, '1888_ballantyne-the-middy-and-the-moors': 58284, '1888_fenn-dick-o-the-fens': 118199, '1888_fenn-mother-careys-chickens': 116176, '1888_henty-sturdy-and-strong': 69594, '1888_henty-the-cat-of-bubastes': 121398, '1888_in-the-reign-of-terror': 92900, '1888_lang-the-gold-of-fairnilee': 14452, '1888_macdonald-a-rough-shaking': 107936, '1888_wilde-the-happy-prince-and-other-tales': 16168, '1889_ballantyne-blown-to-bits-or-the-lonely-man-of-rakata': 94358, '1889_fenn-crown-and-sceptre': 134444, '1889_fenn-quicksilver': 115533, '1889_fenn-three-boys': 86142, '1889_henty-captain-bayleys-heir': 113751, '1889_henty-the-curse-of-carnes-hold': 117521, '1889_henty-the-lion-of-st-mark': 119967, '1889_lang-prince-prigio': 17208, '1889_reed-my-friend-smith': 131653, '1889_reed-sir-ludar': 120113, '1890_ballantyne-the-eagle-cliff': 70880, '1891_reed-roger-ingleton-minor': 89202, '1893_reed-the-cock-house-at-fellsgarth': 87618, '1893_stevenson-catriona': 100420, '1894_collingwood-the-cruise-of-the-esmeralda': 104332, '1894_kipling-the-jungle-book': 50791, '1894_reed-a-dog-with-a-bad-name': 96486, '1894_reed-tom-dick-and-harry': 90650, '1895_collingwood-the-pirate-slaver-a-story-of-the-west-african-coast': 102560, '1895_kipling-the-second-jungle-book': 63679, '1895_reed-kilgorman-a-story-of-ireland-in-1798': 105698, '1896_collingswood-the-log-of-privateersman': 102148, '1897_kipling-captains-courageous-a-story-of-the-grand-banks': 52497, '1898_collingwood-a-pirate-of-the-caribbees': 84829, '1898_farrow-the-wallypug-in-london': 23098, '1899_collingwood-the-castaways': 80107, '1899_kipling-stalky-and-co': 64508, '1900_farrow-the-jungle-baby': 1803, '1906_collingwood-across-the-spanish-main-a-tale-of-the-sea-in-the-days-of-queen-bess': 93880, '1907_collingwood-with-airship-and-submarine-a-tale-of-adventure': 101114, '1908_collingwood-a-middy-in-command-a-tale-of-the-slave-squadron': 103958, '1908_collingwood-under-the-chilian-flag-a-tale-of-war-between-chili-and-peru': 84419, '1909_collingwood-harry-escombe-a-tale-of-adventure-in-peru': 91098, '1909_collingwood-the-cruise-of-the-thetis-a-tale-of-the-cuban-insurrection': 103670, '190x_hemyng-jack-harkaway-and-his-sons-escape-from-the-brigands-of-greece': 89555, '1910_collingwood-a-middy-of-the-slave-squadron-a-west-african-story': 101048, '1910_kipling-rewards-and-fairies': 72486, '1911_collingwood-a-middy-of-the-king-a-romance-of-the-old-british-navy': 104980, '1911_collingwood-the-adventures-of-dick-maitland-a-tale-of-unknown-africa': 84108, '1912_collingwood-two-gallant-sons-of-davon-a-tale-of-the-days-of-queen-bess': 108321, '1914_collingwood-the-first-mate-the-story-of-a-strange-cruise': 78426}\n",
      "🎇Number of words in books written by female authors:  {'1835_sherwood-shanty-the-blacksmith-a-tale-of-other-times': 31953, '1839_sinclair-holiday-house-a-series-of-tales': 77184, '1841_martineau-the-settlers-at-home': 55796, '1850_sherwood-the-young-lord-and-other-tales-to-which-is-added-victorine-durocher': 27576, '1851_hall-turns-of-fortune-and.other-tales': 42655, '1853_yonge-the-heir-of-redclyffe': 233780, '1854_yonge-the-little-duke-richard-the-fearless': 40802, '1855_yonge-the-lances-of-lynwood': 57231, '1856_yonge-the-daisy-chain-or-aspirations': 296325, '1857_browne-grannys-wonderful-chair': 22538, '1857_tucker-the-rambles-of-a-rat': 30340, '1858_tucker-flora': 35705, '1860_yonge-countess-kate': 63508, '1860_yonge-the-pigeon-pie': 27174, '1861_yonge-the-stokesley-secret': 60618, '1862_ewing-melchiors-dream-and-other-tales': 60151, '1863_tucker-the-crown-of-success': 42489, '1866_yonge-the-prince-and-the-page-a-story-of-the-last-crusade': 65408, '1867_stretton-jessicas-first-prayer-and-jessicas-mother': 24503, '1868_stretton-little-megs-children': 22733, '1869_ewing-mrs-overtheways-remembrances': 54222, '1869_ewing-the-land-of-lost-toys': 23290, '1869_stretton-alone-in-london': 27082, '1870_ewing-the-brownies-and-other-tales': 48231, '1871_yonge-little-lucys-wonderful-globe': 14637, '1872_craik-the-adventure-of-a-brownie': 19822, '1872_de_la_ramee-a-dog-of-flanders': 14058, '1872_meade-scamp-and-i-a-story-of-city-by-ways': 51942, '1873_ewing-a-flat-iron-for-a-farthing': 63505, '1875_craik-the-little-lame-prince-and-his-traveling-cloack': 30538, '1875_molesworth-tell-me-a-story': 33727, '1875_tucker-the-childrens-tabernacle-or-hand-work-and-heart-work': 38014, '1876_ewing-jan-of-the-windmill': 82439, '1876_ewing-six-to-sixteen-a-story-for-girls': 63098, '1876_molesworth-carrots-just-a-little-boy': 37855, '1877_ewing-a-great-emergency-and-other-tales': 64726, '1877_meade-davids-little-lad': 56459, '1877_molesworth-the-cuckoo-clock': 43430, '1877_sewell-black-beauty': 59688, '1878_molesworth-grandmother-dear-a-book-for-boys-and-girls': 53893, '1879_coleridge-the-constant-prince': 48490, '1879_ewing-jackanapes-daddy-darwins-dovecot-and-other-stories': 30346, '1879_molesworth-the-tapestry-room-a-childs-romance': 49231, '1880_burnett-louisiana': 31097, '1880_meade-mou-sete-a-negro-hero': 13831, '1880_molesworth-a-christmas-child-a-sketch-of-a-boy-life': 48127, '1881_molesworth-the-adventures-of-herr-baby': 37960, '1882_delaramee-bimbi': 44150, '1882_ewing-brothers-of-pity-and-other-tales-of-beasts-and-men': 48404, '1882_meade-a-london-baby-the-story-of-king-roy': 20706, '1882_molesworth-rosy': 41853, '1883_ewing-marys-meadow-and-other-tales-of-fields-and-flowers': 47168, '1883_meade-the-childrens-pilgrimage': 83108, '1883_molesworth-the-boys-and-i-a-childs-story-for-children': 51909, '1883_molesworth-two-little-waifs': 43946, '1884_molesworth-the-little-old-portrait': 43159, '1886_delaramee-a-houseparty': 85116, '1886_hodgson-burnett-little-lord-fauntleroy': 58324, '1886_leslie-a-sailors-lass': 22130, '1886_meade-a-world-of-girls': 81161, '1886_molesworth-christmas-tree-land': 45436, '1886_molesworth-us-an-old-fashioned-story': 49610, '1887_leslie-kates-ordeal': 17612, '1887_meade-the-palace-beautiful': 96821, '1887_molesworth-four-winds-farm': 36685, '1887_molesworth-little-miss-peggy-only-a-nursery-story': 40247, '1887_molesworth-silverthorns': 56188, '1887_molesworth-the-palace-in-the-garden': 41352, '1887_peard-prentice-hugh': 66026, '1888_burnett-little-saint-elizabeth-and-other-tales': 27084, '1888_burnett-sara-crewe': 16593, '1888_ewing-snap-dragons-old-father-christmas': 12223, '1888_meade-the-little-princess-of-towerhill': 53557, '1888_molesworth-a-christmas-posy': 44932, '1888_molesworth-the-third-miss-st-quentin': 80161, '1889_meade-polly-a-new-fashioned-girl': 80363, '1889_molesworth-great-uncle-hoot-toot': 29821, '1889_molesworth-that-girl-in-black': 22717, '1889_molesworth-the-old-pincushion': 37418, '1889_molesworth-the-rectory-children': 42416, '1889_tytler-a-house-full-of-girls': 92611, '1890_coleridge-maud-florence-nellie': 51008, '1890_meade-dickory-dock': 8659, '1890_meade-the-honorable-miss-a-story-of.an-old-fashioned-town': 85147, '1890_molesworth-robin-redbreast-a-story-for-girls': 78258, '1890_molesworth-the-children-of-the-castle': 38730, '1890_molesworth-the-green-casket-and-other-stories': 21524, '1891_meade-a-sweet-girl-graduate': 73406, '1891_meade-the-children-of-wilton-chase': 54592, '1891_molesworth-nurse-heatherdales-story': 40060, '1891_molesworth-sweet-content': 36481, '1892_everett_green-the-lord-of-dynevor-a-tale-of-the-times-of-edward-the-first': 58197, '1892_meade-jill-a-flower-girl': 55514, '1892_meade-the-lady-of-the-forest-a-story-for-girls': 67888, '1892_molesworth-an-enchanted-garden': 33789, '1892_molesworth-the-girls-and-i-a-veracious-history': 40209, '1892_molesworth-the-man-with-the-pan-pipes-and-other-stories': 16590, '1893_everett_green-in-the-days-of-chivalry-a-tale-of-the-times-of-the-black-prince': 153334, '1893_molesworth-blanche-a-story-for-girls': 77429, '1893_molesworth-mary-a-nursery-story-for-very-little-children': 36087, '1894_everett_green-the-lost-treasure-of-trevlyn-a-story-of-the-days-of-the-gunpowder-plot': 149415, '1894_everett_green-the-secret-chamber-at-chad': 54988, '1894_meade-red-rose-and-tiger-lily-or-in-a-wider-world': 79019, '1894_molesworth-my-new-home': 42956, '1895_burnett-two-little-pilgrims-process-a-story-of-the-city-beautiful': 39368, '1895_ewing-the-peace-egg-and-other-tales': 32213, '1895_meade-girls-new-and-old': 82750, '1895_molesworth-the-carved-lions': 40019, '1896_meade-a-girl-in.ten-thousand': 52225, '1896_meade-a-little-mother-to-the-others': 74670, '1896_meade-good-luck': 47920, '1896_molesworth-philippa': 81541, '1896_molesworth-the-oriel-window': 37344, '1897_meade-wild-kitty': 86110, '1897_molesworth-hoodie': 55743, '1897_molesworth-miss-mouse-and-her-boys': 40040, '1898_everett_green-a-clerk-of-oxford-and-his-adventures-in-the-barons-war': 119657, '1898_everett_green-tom-tuftons-travels': 74150, '1898_meade-a-bunch-of-cherries-a-story-of-cherry-court-school': 59830, '1898_meade-the-girls-of-st-wodes': 85660, '1898_molesworth-the-magic-nuts': 38287, '1899_everett_green-french-and.english-a-story-of-the-struggle-in-america': 129637, '1899_meade-light-o-the-morning': 87871, '1899_nesbit-pussy-and-doggy-tales': 13700, '1899_nesbit-the-story-of-the-treasure-seekers': 52455, '1900_everett_green-esthers-charge-a-story-for-girls': 58963, '1900_meade-a-plucky-girl': 91611, '1900_meade-daddys-girl': 72728, '1900_molesworth-the-house-that-grew': 43297, '1901_everett_green-in-the-wars-of-the-roses-a-story-for-the-young': 59303, '1901_meade-a-very-naughty-girl': 95583, '1901_meade-girls-of-the-true-blue': 88097, '1901_molesworth-the-wood-pigeons-and-mary': 39298, '1901_nesbit-the-book-of-dragons': 41837, '1901_nesbit-the-wouldbegoods': 78205, '1902_everett_green-for-the-faith-a-story-of-the-young-pioneers-of-reformation-in-oxford': 74582, '1902_meade-girls-of.the-forest': 93556, '1902_meade-the-squires-little-girl': 16027, '1902_molesworth-peterkin': 40831, '1902_potter-the-tale-of-peter-rabbit': 977, '1903_potter-the-tailor-of-gloucester': 2738, '1903_potter-the-tale-of-squirrel-nutkin': 1244, '1904_burnett-in-the-closed-room': 11134, '1904_everett_green-the-sign-of-the-red-cross-a-tale-of-old-london': 87647, '1904_meade-a-modern-tomboy-a-story-for-girls': 91556, '1904_nesbit-the-phoenix-and-the-carpet': 61337, '1904_potter-the-tale-of-benjamin-bunny': 1156, '1904_potter_the-tale-of-two-bad-mice': 916, '1905_meade-a-bevy-of-girls': 78484, '1905_meade-a-plain-girl': 83947, '1905_meade-a-young-mutineer': 51466, '1905_nesbit-new-treasure-seekers-or-the-bastable-children-in-search-of-a-fortune': 67336, '1905_potter-the-tale-of-mrs-riggy-winkle': 1290, '1905_potter-the-tale-of-the-pie-and-the-the-patty-pan': 2852, '1906_burnett-racketty-packetty-house': 8913, '1906_everett_green-a-heroine-of-france-the-story-of-joan-of-arc': 71800, '1906_everett_green-fallen-fortunes': 80384, '1906_meade-a-ring-of-rubies': 55090, '1906_meade-turquoise-and-ruby': 84514, '1906_molesworth-jasper': 46009, '1906_nesbit-the-story-of-the-amulet': 68427, '1906_potter-the-story-of-miss-moppet': 239, '1906_potter-the-tale-of-a-fierce-bad-rabbit': 159, '1906_potter-the-tale-of-mr-jeremy-fisher': 800, '1907_burnett-the-cozy-lion': 6425, '1907_meade-the-little-school-mothers': 82313, '1907_meade-three-girls-from-school': 87155, '1907_nesbit-the-enchanted-castle': 68272, '1907_potter-the-tale-of-tom-kitten': 721, '1908_burnett-the-good-wolf': 10573, '1908_potter-the-tale-of-jemina-puddle-duck': 1283, '1908_potter-the-tale-of-samuel-whiskers-the-roly-poly-pudding': 2627, '1909_burnett-barty-crusoe-and-his-man-saturday': 20268, '1909_potter-the-tale-of-ginger-and-pickles': 1141, '1909_potter-the-tale-of-the-flopsy-bunnies': 1027, '1910_meade-betty-vivian-a-story-of-haddo-court-school': 96181, '1910_meade-sue-a-little-heroine': 72817, '1910_meade-the-school-queens': 84977, '1910_potter-the-tale-pf-mrs-tittlemouse': 1224, '1911_burnett-the-secret-garden': 80468, '1911_nesbit-the-wonderful-garden-oir-the-three-cs': 69502, '1911_potter-the-tale-of-timmy-tiptoes': 1329, '1912_nesbit-the-magic-world': 58503, '1912_potter-the-tale-of-mr-tod': 4886, '1913_nesbit-wet-magic': 48960}\n"
     ]
    }
   ],
   "source": [
    "print(\"🎇Number of words in books written by male authors: \",male_n_of_words)\n",
    "print(\"🎇Number of words in books written by female authors: \",female_n_of_words)"
   ]
  },
  {
   "cell_type": "code",
   "execution_count": 6,
   "metadata": {},
   "outputs": [
    {
     "name": "stdout",
     "output_type": "stream",
     "text": [
      "Male total number of words:  14074486\n",
      "Female total number of words:  9458669\n"
     ]
    }
   ],
   "source": [
    "male_total_words = sum(male_n_of_words.values())\n",
    "female_total_words = sum(female_n_of_words.values())\n",
    "print(\"Male total number of words: \",male_total_words)\n",
    "print(\"Female total number of words: \", female_total_words)"
   ]
  },
  {
   "cell_type": "markdown",
   "metadata": {},
   "source": [
    "Criteri da tenere in considerazione per il bilanciamento:\n",
    "1. numero di tokens maschili/femminili\n",
    "2. Fase temporale (decennio?)\n",
    "3. autore per decennio\n",
    "\n",
    "L'output che vogliamo sono **due liste di documenti**, una per autori e una per autrici, che contengano il *massimo* numero di documenti per ogni decennio, con il *minimo* numero di libri dello stesso autore, con la *minima* differenza di numero di token tra maschi e femmine per ogni singolo decennio. La gerarchia di priorità è la seguente:\n",
    "\n",
    "1. minima differenza assoluta di tokens maschi/femmine per decennio\n",
    "2. massimo numero di libri per decennio\n",
    "3. minimo numero di libri dello stesso autore per decennio\n",
    "\n",
    "Considera la possibilità di usare il built-in `filter()` ed eventualmente importare e usare `random` (per scegliere documenti a caso una volta applicati i filtri condizionali). \n",
    "\n",
    "Prima definisci le funzioni per verificare le condizioni dei filtri (ad esempio:  `return true if abs(male_document_tokens_number - female_document_tokens_number) < 10000`) e poi applica i filtri al dataset. "
   ]
  },
  {
   "cell_type": "code",
   "execution_count": 7,
   "metadata": {},
   "outputs": [],
   "source": [
    "import random\n",
    "\n",
    "\n"
   ]
  }
 ],
 "metadata": {
  "kernelspec": {
   "display_name": "Python 3.9.0 64-bit",
   "language": "python",
   "name": "python3"
  },
  "language_info": {
   "codemirror_mode": {
    "name": "ipython",
    "version": 3
   },
   "file_extension": ".py",
   "mimetype": "text/x-python",
   "name": "python",
   "nbconvert_exporter": "python",
   "pygments_lexer": "ipython3",
   "version": "3.9.0"
  },
  "orig_nbformat": 4,
  "vscode": {
   "interpreter": {
    "hash": "11938c6bc6919ae2720b4d5011047913343b08a43b18698fd82dedb0d4417594"
   }
  }
 },
 "nbformat": 4,
 "nbformat_minor": 2
}
