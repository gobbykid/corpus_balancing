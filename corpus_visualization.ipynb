{
 "cells": [
  {
   "cell_type": "code",
   "execution_count": null,
   "metadata": {},
   "outputs": [],
   "source": [
    "import glob\n",
    "from pathlib import Path\n",
    "from tqdm import tqdm"
   ]
  },
  {
   "cell_type": "code",
   "execution_count": null,
   "metadata": {},
   "outputs": [],
   "source": [
    "male_directory = \"C:/Users/media/Desktop/gobbykid/corpus/gobbykidCorpus/male-writers\"\n",
    "female_directory = \"C:/Users/media/Desktop/gobbykid/corpus/gobbykidCorpus/female-writers\"\n",
    "\n",
    "male_files = glob.glob(f\"{male_directory}/*.txt\")\n",
    "female_files = glob.glob(f\"{female_directory}/*.txt\")"
   ]
  },
  {
   "cell_type": "code",
   "execution_count": null,
   "metadata": {},
   "outputs": [],
   "source": [
    "male_n_of_words = dict()\n",
    "for file in male_files:\n",
    "    text = open(file, 'rb').read()\n",
    "    n_of_words = len(text.split())\n",
    "    male_n_of_words[Path(file).stem] = n_of_words\n",
    "\n",
    "female_n_of_words = dict()\n",
    "for file in female_files:\n",
    "    text = open(file, 'rb').read()\n",
    "    n_of_words = len(text.split())\n",
    "    female_n_of_words[Path(file).stem] = n_of_words\n",
    "\n",
    "#print(\"🎇Number of words in books written by male authors, per each book: \",male_n_of_words)\n",
    "#print(\"🎇Number of words in books written by female authors, per each book: \",female_n_of_words)"
   ]
  },
  {
   "cell_type": "code",
   "execution_count": null,
   "metadata": {},
   "outputs": [],
   "source": [
    "male_total_words = sum(male_n_of_words.values())\n",
    "female_total_words = sum(female_n_of_words.values())\n",
    "print(\"♂️ MALE AUTHORS CORPUS\\nTotal number of words:\",male_total_words, \"\\nNumber of books:\", len(male_files))\n",
    "print(\"♀️ FEMALE AUTHORS CORPUS\\nTotal number of words:\",female_total_words, \"\\nNumber of books:\", len(female_files))\n"
   ]
  },
  {
   "cell_type": "code",
   "execution_count": null,
   "metadata": {},
   "outputs": [],
   "source": [
    "import re\n",
    "\n",
    "\n",
    "male_authors_data = []\n",
    "female_authors_data = []\n",
    "for key, value in male_n_of_words.items():\n",
    "    author = re.search(\"(?<=_)(.*?)(?=-)\", key).group(0)\n",
    "    year = int(re.search(\"\\d{3}.\", key).group(0))\n",
    "    decade = (re.search(\"\\d{3}\", key).group(0)) + \"0s\"\n",
    "    book_dict = dict()\n",
    "    book_dict['book_title'] = key\n",
    "    book_dict['author'] = author\n",
    "    book_dict['year'] = year\n",
    "    book_dict['decade'] = decade\n",
    "    book_dict['tokens_in_book'] = value\n",
    "    male_authors_data.append(book_dict)\n",
    "\n",
    "\n",
    "for key, value in female_n_of_words.items():\n",
    "    author = re.search(\"(?<=_)(.*?)(?=-)\", key).group(0)\n",
    "    year = int(re.search(\"\\d{3}.\", key).group(0))\n",
    "    decade = (re.search(\"\\d{3}\", key).group(0)) + \"0s\"\n",
    "    book_dict = dict()\n",
    "    book_dict['book_title'] = key\n",
    "    book_dict['author'] = author\n",
    "    book_dict['year'] = year\n",
    "    book_dict['decade'] = decade\n",
    "    book_dict['tokens_in_book'] = value\n",
    "    female_authors_data.append(book_dict)\n",
    "\n",
    "\n",
    "#print(len(male_authors_data))\n",
    "#print(len(female_authors_data))"
   ]
  },
  {
   "cell_type": "markdown",
   "metadata": {},
   "source": [
    "--------------------------------AGGIUNGI DA QUI IN BASSO!!"
   ]
  },
  {
   "cell_type": "markdown",
   "metadata": {},
   "source": [
    "We store the data about both the original male and female corpus in a list, `whole_original_corpus`, adding to each dictionary, i.e. book entry, the value for its author's sex.\n",
    "Then, from the list `whole_original_corpus` we create a DataFrame object, `corpus_df`, in order to be able to use it for some visualizations. "
   ]
  },
  {
   "cell_type": "code",
   "execution_count": null,
   "metadata": {},
   "outputs": [],
   "source": [
    "import pandas as pd\n",
    "\n",
    "# create a list object containing the data for the whole orginal corpus (male + female authors)\n",
    "whole_original_corpus = list()\n",
    "\n",
    "for row in male_authors_data:\n",
    "    row['authors_sex'] = 'M'\n",
    "    whole_original_corpus.append(row)\n",
    "for row in female_authors_data:\n",
    "    row['authors_sex'] = 'F'\n",
    "    whole_original_corpus.append(row)\n",
    "\n",
    "whole_original_corpus = sorted(whole_original_corpus, key=lambda dict: dict['book_title'])\n",
    "\n",
    "# transform the list into a DataFrame, for using it with plotly \n",
    "corpus_df = pd.DataFrame(whole_original_corpus)"
   ]
  },
  {
   "cell_type": "code",
   "execution_count": null,
   "metadata": {},
   "outputs": [],
   "source": [
    "import plotly.express as px\n",
    "\n",
    "whole_corpus_viz = px.scatter(\n",
    "    corpus_df, \n",
    "    x= 'year',\n",
    "    y='tokens_in_book',\n",
    "    hover_name='book_title', \n",
    "    size='tokens_in_book', \n",
    "    marginal_x='histogram',\n",
    "    trendline='lowess',\n",
    "    color='authors_sex', \n",
    "    color_discrete_sequence=['MediumSeaGreen', 'Tomato'],\n",
    "    title='The original (non balanced) corpus',\n",
    "    labels={'year':'Year', 'tokens_in_book':'Number of tokens', 'authors_sex':\"Author's sex\"})\n",
    "\n",
    "\n",
    "whole_corpus_viz.show()\n"
   ]
  }
 ],
 "metadata": {
  "kernelspec": {
   "display_name": "Python 3.9.0 64-bit",
   "language": "python",
   "name": "python3"
  },
  "language_info": {
   "codemirror_mode": {
    "name": "ipython",
    "version": 3
   },
   "file_extension": ".py",
   "mimetype": "text/x-python",
   "name": "python",
   "nbconvert_exporter": "python",
   "pygments_lexer": "ipython3",
   "version": "3.9.0"
  },
  "orig_nbformat": 4,
  "vscode": {
   "interpreter": {
    "hash": "11938c6bc6919ae2720b4d5011047913343b08a43b18698fd82dedb0d4417594"
   }
  }
 },
 "nbformat": 4,
 "nbformat_minor": 2
}
